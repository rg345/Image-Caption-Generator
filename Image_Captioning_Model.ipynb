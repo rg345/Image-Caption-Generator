{
  "nbformat": 4,
  "nbformat_minor": 0,
  "metadata": {
    "colab": {
      "provenance": [],
      "gpuType": "T4"
    },
    "kernelspec": {
      "name": "python3",
      "display_name": "Python 3"
    },
    "language_info": {
      "name": "python"
    },
    "accelerator": "GPU"
  },
  "cells": [
    {
      "cell_type": "code",
      "execution_count": null,
      "metadata": {
        "colab": {
          "base_uri": "https://localhost:8080/"
        },
        "id": "h3rw4_4JTgXN",
        "outputId": "22c044d4-0ca7-4510-a43a-73275e42c2d6"
      },
      "outputs": [
        {
          "output_type": "stream",
          "name": "stdout",
          "text": [
            "Mounted at /content/drive\n"
          ]
        }
      ],
      "source": [
        "from google.colab import drive\n",
        "drive.mount('/content/drive')"
      ]
    },
    {
      "cell_type": "code",
      "source": [
        "import os\n",
        "import numpy as np\n",
        "import tensorflow as tf\n",
        "from tensorflow.keras.models import Model\n",
        "from tensorflow.keras.layers import Input, Dense, LSTM, Embedding, Dropout, add\n",
        "from tensorflow.keras.optimizers import Adam\n",
        "from tensorflow.keras.applications.vgg16 import VGG16, preprocess_input\n",
        "from tensorflow.keras.preprocessing.text import Tokenizer\n",
        "from tensorflow.keras.preprocessing.sequence import pad_sequences\n",
        "from tensorflow.keras.utils import to_categorical\n",
        "import pickle\n",
        "import matplotlib.pyplot as plt\n",
        "from PIL import Image\n",
        "import string\n",
        "from tqdm import tqdm"
      ],
      "metadata": {
        "id": "T7ett6ITT4O3"
      },
      "execution_count": null,
      "outputs": []
    },
    {
      "cell_type": "code",
      "source": [
        "def load_captions(filename):\n",
        "    descriptions = {}\n",
        "    with open(filename, 'r') as file:\n",
        "        next(file)  # Skip the first line (header)\n",
        "        for line in file:\n",
        "            tokens = line.strip().split(',')\n",
        "            image_id, caption = tokens[0], \",\".join(tokens[1:])  # Handle commas in captions\n",
        "            image_id = image_id.split('.')[0]  # Remove file extension\n",
        "\n",
        "            # Clean caption (convert to lowercase, remove punctuation)\n",
        "            caption = caption.lower().translate(str.maketrans(\"\", \"\", string.punctuation))\n",
        "            caption = f\"<start> {caption} <end>\"\n",
        "            # Store in dictionary\n",
        "            if image_id not in descriptions:\n",
        "                descriptions[image_id] = []\n",
        "            descriptions[image_id].append(caption)\n",
        "\n",
        "    return descriptions\n",
        "\n",
        "descriptions = load_captions(\"/content/drive/MyDrive/Image Captioning Model Project/captions.txt\")\n",
        "# Printing to see what descriptions look like\n",
        "print(\"Captions loaded successfully!\")\n",
        "for img_id, caps in list(descriptions.items())[:5]:\n",
        "    print(f\"Image ID: {img_id}\")\n",
        "    for cap in caps:\n",
        "        print(f\"  - {cap}\")\n"
      ],
      "metadata": {
        "colab": {
          "base_uri": "https://localhost:8080/"
        },
        "id": "dPReSaRmUD1d",
        "outputId": "67059262-de87-491d-9b87-8ec9ab9debb8"
      },
      "execution_count": null,
      "outputs": [
        {
          "output_type": "stream",
          "name": "stdout",
          "text": [
            "Captions loaded successfully!\n",
            "Image ID: 1000268201_693b08cb0e\n",
            "  - <start> a child in a pink dress is climbing up a set of stairs in an entry way  <end>\n",
            "  - <start> a girl going into a wooden building  <end>\n",
            "  - <start> a little girl climbing into a wooden playhouse  <end>\n",
            "  - <start> a little girl climbing the stairs to her playhouse  <end>\n",
            "  - <start> a little girl in a pink dress going into a wooden cabin  <end>\n",
            "Image ID: 1001773457_577c3a7d70\n",
            "  - <start> a black dog and a spotted dog are fighting <end>\n",
            "  - <start> a black dog and a tricolored dog playing with each other on the road  <end>\n",
            "  - <start> a black dog and a white dog with brown spots are staring at each other in the street  <end>\n",
            "  - <start> two dogs of different breeds looking at each other on the road  <end>\n",
            "  - <start> two dogs on pavement moving toward each other  <end>\n",
            "Image ID: 1002674143_1b742ab4b8\n",
            "  - <start> a little girl covered in paint sits in front of a painted rainbow with her hands in a bowl  <end>\n",
            "  - <start> a little girl is sitting in front of a large painted rainbow  <end>\n",
            "  - <start> a small girl in the grass plays with fingerpaints in front of a white canvas with a rainbow on it  <end>\n",
            "  - <start> there is a girl with pigtails sitting in front of a rainbow painting  <end>\n",
            "  - <start> young girl with pigtails painting outside in the grass  <end>\n",
            "Image ID: 1003163366_44323f5815\n",
            "  - <start> a man lays on a bench while his dog sits by him  <end>\n",
            "  - <start> a man lays on the bench to which a white dog is also tied  <end>\n",
            "  - <start> a man sleeping on a bench outside with a white and black dog sitting next to him  <end>\n",
            "  - <start> a shirtless man lies on a park bench with his dog  <end>\n",
            "  - <start> man laying on bench holding leash of dog sitting on ground <end>\n",
            "Image ID: 1007129816_e794419615\n",
            "  - <start> a man in an orange hat starring at something  <end>\n",
            "  - <start> a man wears an orange hat and glasses  <end>\n",
            "  - <start> a man with gauges and glasses is wearing a blitz hat  <end>\n",
            "  - <start> a man with glasses is wearing a beer can crocheted hat  <end>\n",
            "  - <start> the man with pierced ears is wearing glasses and an orange hat  <end>\n"
          ]
        }
      ]
    },
    {
      "cell_type": "code",
      "source": [
        "# Load image features\n",
        "with open(\"/content/drive/MyDrive/Image Captioning Model Project/image_features.pkl\", \"rb\") as f:\n",
        "    image_features = pickle.load(f)\n",
        "\n",
        "print(\"Image features loaded successfully!\")\n",
        "# Printing top 5 values to see what image_features looks like\n",
        "count = 0\n",
        "for key, value in image_features.items():\n",
        "    print(key, value)\n",
        "    count += 1\n",
        "    if count == 5:\n",
        "        break"
      ],
      "metadata": {
        "colab": {
          "base_uri": "https://localhost:8080/"
        },
        "id": "kt13ztEtUXUQ",
        "outputId": "ae311b55-8f9f-4424-ea73-612824269838"
      },
      "execution_count": null,
      "outputs": [
        {
          "output_type": "stream",
          "name": "stdout",
          "text": [
            "Image features loaded successfully!\n",
            "1000268201_693b08cb0e [1.9046054 0.        0.        ... 0.        0.        0.       ]\n",
            "1001773457_577c3a7d70 [0.         0.         0.28391886 ... 0.         0.         0.        ]\n",
            "1002674143_1b742ab4b8 [1.5989008 0.        0.        ... 2.5635054 2.6149707 0.       ]\n",
            "1003163366_44323f5815 [0. 0. 0. ... 0. 0. 0.]\n",
            "1007129816_e794419615 [0.        0.3743969 0.        ... 0.        0.        0.       ]\n"
          ]
        }
      ]
    },
    {
      "cell_type": "code",
      "source": [
        "def create_tokenizer(descriptions):\n",
        "    all_captions = [caption for captions in descriptions.values() for caption in captions]\n",
        "    tokenizer = Tokenizer()\n",
        "    tokenizer.fit_on_texts(all_captions)\n",
        "    return tokenizer\n",
        "\n",
        "# Tokenize captions\n",
        "tokenizer = create_tokenizer(descriptions)\n",
        "vocab_size = len(tokenizer.word_index) + 1\n",
        "max_length = max(len(cap.split()) for caps in descriptions.values() for cap in caps)\n",
        "print(f\"Vocabulary size: {vocab_size}, Max sequence length: {max_length}\")"
      ],
      "metadata": {
        "id": "ZFRrvq7qUi7M"
      },
      "execution_count": null,
      "outputs": []
    },
    {
      "cell_type": "code",
      "source": [
        "def data_generator(descriptions, features, tokenizer, max_length, vocab_size, batch_size=32):\n",
        "    \"\"\"\n",
        "    Generator to yield batches of training data.\n",
        "    For each caption, we create multiple input-output pairs:\n",
        "      - Input 1: image feature vector\n",
        "      - Input 2: padded input sequence of words\n",
        "      - Output: one-hot encoded next word\n",
        "    \"\"\"\n",
        "    image_ids = list(descriptions.keys())\n",
        "    n = len(image_ids)\n",
        "    i = 0\n",
        "    while True:\n",
        "        X1, X2, y = [], [], []\n",
        "        for _ in range(batch_size):\n",
        "            if i == n:\n",
        "                i = 0\n",
        "            image_id = image_ids[i]\n",
        "            i += 1\n",
        "            # Get the image feature vector\n",
        "            feature = features[image_id]\n",
        "            # Process each caption for the image\n",
        "            for caption in descriptions[image_id]:\n",
        "                # Convert caption to sequence of integers\n",
        "                seq = tokenizer.texts_to_sequences([caption])[0]\n",
        "                # Create input-output pairs using sliding window approach\n",
        "                for j in range(1, len(seq)):\n",
        "                    in_seq = seq[:j]\n",
        "                    out_seq = seq[j]\n",
        "                    # Pad input sequence to fixed length\n",
        "                    in_seq = pad_sequences([in_seq], maxlen=max_length, padding='post')[0]\n",
        "                    # One-hot encode the output word\n",
        "                    out_seq = to_categorical([out_seq], num_classes=vocab_size)[0]\n",
        "                    # Append to batch\n",
        "                    X1.append(feature)\n",
        "                    X2.append(in_seq)\n",
        "                    y.append(out_seq)\n",
        "                    if len(X1) >= batch_size:\n",
        "                        yield (np.array(X1), np.array(X2)), np.array(y)\n",
        "                        X1, X2, y = [], [], []"
      ],
      "metadata": {
        "id": "wJLZyJiYWr_3"
      },
      "execution_count": null,
      "outputs": []
    },
    {
      "cell_type": "code",
      "source": [
        "from tensorflow.keras.layers import add\n",
        "def define_model(vocab_size, max_length):\n",
        "    # Image feature input (assuming feature vector size 4096)\n",
        "    inputs1 = Input(shape=(4096,))\n",
        "    fe1 = Dropout(0.5)(inputs1)\n",
        "    fe2 = Dense(256, activation='relu')(fe1)\n",
        "\n",
        "    # Caption input (word sequences)\n",
        "    inputs2 = Input(shape=(max_length,))\n",
        "    se1 = Embedding(vocab_size, 256, mask_zero=True)(inputs2)\n",
        "    se2 = Dropout(0.5)(se1)\n",
        "    se3 = LSTM(256)(se2)\n",
        "\n",
        "    # Decoder: combine image and caption features\n",
        "    decoder1 = add([fe2, se3])\n",
        "    decoder2 = Dense(256, activation='relu')(decoder1)\n",
        "    outputs = Dense(vocab_size, activation='softmax')(decoder2)\n",
        "\n",
        "    model = Model(inputs=[inputs1, inputs2], outputs=outputs)\n",
        "    model.compile(loss='categorical_crossentropy', optimizer='adam')\n",
        "    return model\n",
        "\n",
        "model = define_model(vocab_size, max_length)\n",
        "print(model.summary())"
      ],
      "metadata": {
        "colab": {
          "base_uri": "https://localhost:8080/",
          "height": 594
        },
        "id": "F2FAn2xriYKe",
        "outputId": "6c209b4f-df0b-4e02-9c37-746eb2f2b454"
      },
      "execution_count": null,
      "outputs": [
        {
          "output_type": "display_data",
          "data": {
            "text/plain": [
              "\u001b[1mModel: \"functional\"\u001b[0m\n"
            ],
            "text/html": [
              "<pre style=\"white-space:pre;overflow-x:auto;line-height:normal;font-family:Menlo,'DejaVu Sans Mono',consolas,'Courier New',monospace\"><span style=\"font-weight: bold\">Model: \"functional\"</span>\n",
              "</pre>\n"
            ]
          },
          "metadata": {}
        },
        {
          "output_type": "display_data",
          "data": {
            "text/plain": [
              "┏━━━━━━━━━━━━━━━━━━━━━┳━━━━━━━━━━━━━━━━━━━┳━━━━━━━━━━━━┳━━━━━━━━━━━━━━━━━━━┓\n",
              "┃\u001b[1m \u001b[0m\u001b[1mLayer (type)       \u001b[0m\u001b[1m \u001b[0m┃\u001b[1m \u001b[0m\u001b[1mOutput Shape     \u001b[0m\u001b[1m \u001b[0m┃\u001b[1m \u001b[0m\u001b[1m   Param #\u001b[0m\u001b[1m \u001b[0m┃\u001b[1m \u001b[0m\u001b[1mConnected to     \u001b[0m\u001b[1m \u001b[0m┃\n",
              "┡━━━━━━━━━━━━━━━━━━━━━╇━━━━━━━━━━━━━━━━━━━╇━━━━━━━━━━━━╇━━━━━━━━━━━━━━━━━━━┩\n",
              "│ input_layer_1       │ (\u001b[38;5;45mNone\u001b[0m, \u001b[38;5;34m38\u001b[0m)        │          \u001b[38;5;34m0\u001b[0m │ -                 │\n",
              "│ (\u001b[38;5;33mInputLayer\u001b[0m)        │                   │            │                   │\n",
              "├─────────────────────┼───────────────────┼────────────┼───────────────────┤\n",
              "│ input_layer         │ (\u001b[38;5;45mNone\u001b[0m, \u001b[38;5;34m4096\u001b[0m)      │          \u001b[38;5;34m0\u001b[0m │ -                 │\n",
              "│ (\u001b[38;5;33mInputLayer\u001b[0m)        │                   │            │                   │\n",
              "├─────────────────────┼───────────────────┼────────────┼───────────────────┤\n",
              "│ embedding           │ (\u001b[38;5;45mNone\u001b[0m, \u001b[38;5;34m38\u001b[0m, \u001b[38;5;34m256\u001b[0m)   │  \u001b[38;5;34m2,260,224\u001b[0m │ input_layer_1[\u001b[38;5;34m0\u001b[0m]… │\n",
              "│ (\u001b[38;5;33mEmbedding\u001b[0m)         │                   │            │                   │\n",
              "├─────────────────────┼───────────────────┼────────────┼───────────────────┤\n",
              "│ dropout (\u001b[38;5;33mDropout\u001b[0m)   │ (\u001b[38;5;45mNone\u001b[0m, \u001b[38;5;34m4096\u001b[0m)      │          \u001b[38;5;34m0\u001b[0m │ input_layer[\u001b[38;5;34m0\u001b[0m][\u001b[38;5;34m0\u001b[0m] │\n",
              "├─────────────────────┼───────────────────┼────────────┼───────────────────┤\n",
              "│ dropout_1 (\u001b[38;5;33mDropout\u001b[0m) │ (\u001b[38;5;45mNone\u001b[0m, \u001b[38;5;34m38\u001b[0m, \u001b[38;5;34m256\u001b[0m)   │          \u001b[38;5;34m0\u001b[0m │ embedding[\u001b[38;5;34m0\u001b[0m][\u001b[38;5;34m0\u001b[0m]   │\n",
              "├─────────────────────┼───────────────────┼────────────┼───────────────────┤\n",
              "│ not_equal           │ (\u001b[38;5;45mNone\u001b[0m, \u001b[38;5;34m38\u001b[0m)        │          \u001b[38;5;34m0\u001b[0m │ input_layer_1[\u001b[38;5;34m0\u001b[0m]… │\n",
              "│ (\u001b[38;5;33mNotEqual\u001b[0m)          │                   │            │                   │\n",
              "├─────────────────────┼───────────────────┼────────────┼───────────────────┤\n",
              "│ dense (\u001b[38;5;33mDense\u001b[0m)       │ (\u001b[38;5;45mNone\u001b[0m, \u001b[38;5;34m256\u001b[0m)       │  \u001b[38;5;34m1,048,832\u001b[0m │ dropout[\u001b[38;5;34m0\u001b[0m][\u001b[38;5;34m0\u001b[0m]     │\n",
              "├─────────────────────┼───────────────────┼────────────┼───────────────────┤\n",
              "│ lstm (\u001b[38;5;33mLSTM\u001b[0m)         │ (\u001b[38;5;45mNone\u001b[0m, \u001b[38;5;34m256\u001b[0m)       │    \u001b[38;5;34m525,312\u001b[0m │ dropout_1[\u001b[38;5;34m0\u001b[0m][\u001b[38;5;34m0\u001b[0m],  │\n",
              "│                     │                   │            │ not_equal[\u001b[38;5;34m0\u001b[0m][\u001b[38;5;34m0\u001b[0m]   │\n",
              "├─────────────────────┼───────────────────┼────────────┼───────────────────┤\n",
              "│ add (\u001b[38;5;33mAdd\u001b[0m)           │ (\u001b[38;5;45mNone\u001b[0m, \u001b[38;5;34m256\u001b[0m)       │          \u001b[38;5;34m0\u001b[0m │ dense[\u001b[38;5;34m0\u001b[0m][\u001b[38;5;34m0\u001b[0m],      │\n",
              "│                     │                   │            │ lstm[\u001b[38;5;34m0\u001b[0m][\u001b[38;5;34m0\u001b[0m]        │\n",
              "├─────────────────────┼───────────────────┼────────────┼───────────────────┤\n",
              "│ dense_1 (\u001b[38;5;33mDense\u001b[0m)     │ (\u001b[38;5;45mNone\u001b[0m, \u001b[38;5;34m256\u001b[0m)       │     \u001b[38;5;34m65,792\u001b[0m │ add[\u001b[38;5;34m0\u001b[0m][\u001b[38;5;34m0\u001b[0m]         │\n",
              "├─────────────────────┼───────────────────┼────────────┼───────────────────┤\n",
              "│ dense_2 (\u001b[38;5;33mDense\u001b[0m)     │ (\u001b[38;5;45mNone\u001b[0m, \u001b[38;5;34m8829\u001b[0m)      │  \u001b[38;5;34m2,269,053\u001b[0m │ dense_1[\u001b[38;5;34m0\u001b[0m][\u001b[38;5;34m0\u001b[0m]     │\n",
              "└─────────────────────┴───────────────────┴────────────┴───────────────────┘\n"
            ],
            "text/html": [
              "<pre style=\"white-space:pre;overflow-x:auto;line-height:normal;font-family:Menlo,'DejaVu Sans Mono',consolas,'Courier New',monospace\">┏━━━━━━━━━━━━━━━━━━━━━┳━━━━━━━━━━━━━━━━━━━┳━━━━━━━━━━━━┳━━━━━━━━━━━━━━━━━━━┓\n",
              "┃<span style=\"font-weight: bold\"> Layer (type)        </span>┃<span style=\"font-weight: bold\"> Output Shape      </span>┃<span style=\"font-weight: bold\">    Param # </span>┃<span style=\"font-weight: bold\"> Connected to      </span>┃\n",
              "┡━━━━━━━━━━━━━━━━━━━━━╇━━━━━━━━━━━━━━━━━━━╇━━━━━━━━━━━━╇━━━━━━━━━━━━━━━━━━━┩\n",
              "│ input_layer_1       │ (<span style=\"color: #00d7ff; text-decoration-color: #00d7ff\">None</span>, <span style=\"color: #00af00; text-decoration-color: #00af00\">38</span>)        │          <span style=\"color: #00af00; text-decoration-color: #00af00\">0</span> │ -                 │\n",
              "│ (<span style=\"color: #0087ff; text-decoration-color: #0087ff\">InputLayer</span>)        │                   │            │                   │\n",
              "├─────────────────────┼───────────────────┼────────────┼───────────────────┤\n",
              "│ input_layer         │ (<span style=\"color: #00d7ff; text-decoration-color: #00d7ff\">None</span>, <span style=\"color: #00af00; text-decoration-color: #00af00\">4096</span>)      │          <span style=\"color: #00af00; text-decoration-color: #00af00\">0</span> │ -                 │\n",
              "│ (<span style=\"color: #0087ff; text-decoration-color: #0087ff\">InputLayer</span>)        │                   │            │                   │\n",
              "├─────────────────────┼───────────────────┼────────────┼───────────────────┤\n",
              "│ embedding           │ (<span style=\"color: #00d7ff; text-decoration-color: #00d7ff\">None</span>, <span style=\"color: #00af00; text-decoration-color: #00af00\">38</span>, <span style=\"color: #00af00; text-decoration-color: #00af00\">256</span>)   │  <span style=\"color: #00af00; text-decoration-color: #00af00\">2,260,224</span> │ input_layer_1[<span style=\"color: #00af00; text-decoration-color: #00af00\">0</span>]… │\n",
              "│ (<span style=\"color: #0087ff; text-decoration-color: #0087ff\">Embedding</span>)         │                   │            │                   │\n",
              "├─────────────────────┼───────────────────┼────────────┼───────────────────┤\n",
              "│ dropout (<span style=\"color: #0087ff; text-decoration-color: #0087ff\">Dropout</span>)   │ (<span style=\"color: #00d7ff; text-decoration-color: #00d7ff\">None</span>, <span style=\"color: #00af00; text-decoration-color: #00af00\">4096</span>)      │          <span style=\"color: #00af00; text-decoration-color: #00af00\">0</span> │ input_layer[<span style=\"color: #00af00; text-decoration-color: #00af00\">0</span>][<span style=\"color: #00af00; text-decoration-color: #00af00\">0</span>] │\n",
              "├─────────────────────┼───────────────────┼────────────┼───────────────────┤\n",
              "│ dropout_1 (<span style=\"color: #0087ff; text-decoration-color: #0087ff\">Dropout</span>) │ (<span style=\"color: #00d7ff; text-decoration-color: #00d7ff\">None</span>, <span style=\"color: #00af00; text-decoration-color: #00af00\">38</span>, <span style=\"color: #00af00; text-decoration-color: #00af00\">256</span>)   │          <span style=\"color: #00af00; text-decoration-color: #00af00\">0</span> │ embedding[<span style=\"color: #00af00; text-decoration-color: #00af00\">0</span>][<span style=\"color: #00af00; text-decoration-color: #00af00\">0</span>]   │\n",
              "├─────────────────────┼───────────────────┼────────────┼───────────────────┤\n",
              "│ not_equal           │ (<span style=\"color: #00d7ff; text-decoration-color: #00d7ff\">None</span>, <span style=\"color: #00af00; text-decoration-color: #00af00\">38</span>)        │          <span style=\"color: #00af00; text-decoration-color: #00af00\">0</span> │ input_layer_1[<span style=\"color: #00af00; text-decoration-color: #00af00\">0</span>]… │\n",
              "│ (<span style=\"color: #0087ff; text-decoration-color: #0087ff\">NotEqual</span>)          │                   │            │                   │\n",
              "├─────────────────────┼───────────────────┼────────────┼───────────────────┤\n",
              "│ dense (<span style=\"color: #0087ff; text-decoration-color: #0087ff\">Dense</span>)       │ (<span style=\"color: #00d7ff; text-decoration-color: #00d7ff\">None</span>, <span style=\"color: #00af00; text-decoration-color: #00af00\">256</span>)       │  <span style=\"color: #00af00; text-decoration-color: #00af00\">1,048,832</span> │ dropout[<span style=\"color: #00af00; text-decoration-color: #00af00\">0</span>][<span style=\"color: #00af00; text-decoration-color: #00af00\">0</span>]     │\n",
              "├─────────────────────┼───────────────────┼────────────┼───────────────────┤\n",
              "│ lstm (<span style=\"color: #0087ff; text-decoration-color: #0087ff\">LSTM</span>)         │ (<span style=\"color: #00d7ff; text-decoration-color: #00d7ff\">None</span>, <span style=\"color: #00af00; text-decoration-color: #00af00\">256</span>)       │    <span style=\"color: #00af00; text-decoration-color: #00af00\">525,312</span> │ dropout_1[<span style=\"color: #00af00; text-decoration-color: #00af00\">0</span>][<span style=\"color: #00af00; text-decoration-color: #00af00\">0</span>],  │\n",
              "│                     │                   │            │ not_equal[<span style=\"color: #00af00; text-decoration-color: #00af00\">0</span>][<span style=\"color: #00af00; text-decoration-color: #00af00\">0</span>]   │\n",
              "├─────────────────────┼───────────────────┼────────────┼───────────────────┤\n",
              "│ add (<span style=\"color: #0087ff; text-decoration-color: #0087ff\">Add</span>)           │ (<span style=\"color: #00d7ff; text-decoration-color: #00d7ff\">None</span>, <span style=\"color: #00af00; text-decoration-color: #00af00\">256</span>)       │          <span style=\"color: #00af00; text-decoration-color: #00af00\">0</span> │ dense[<span style=\"color: #00af00; text-decoration-color: #00af00\">0</span>][<span style=\"color: #00af00; text-decoration-color: #00af00\">0</span>],      │\n",
              "│                     │                   │            │ lstm[<span style=\"color: #00af00; text-decoration-color: #00af00\">0</span>][<span style=\"color: #00af00; text-decoration-color: #00af00\">0</span>]        │\n",
              "├─────────────────────┼───────────────────┼────────────┼───────────────────┤\n",
              "│ dense_1 (<span style=\"color: #0087ff; text-decoration-color: #0087ff\">Dense</span>)     │ (<span style=\"color: #00d7ff; text-decoration-color: #00d7ff\">None</span>, <span style=\"color: #00af00; text-decoration-color: #00af00\">256</span>)       │     <span style=\"color: #00af00; text-decoration-color: #00af00\">65,792</span> │ add[<span style=\"color: #00af00; text-decoration-color: #00af00\">0</span>][<span style=\"color: #00af00; text-decoration-color: #00af00\">0</span>]         │\n",
              "├─────────────────────┼───────────────────┼────────────┼───────────────────┤\n",
              "│ dense_2 (<span style=\"color: #0087ff; text-decoration-color: #0087ff\">Dense</span>)     │ (<span style=\"color: #00d7ff; text-decoration-color: #00d7ff\">None</span>, <span style=\"color: #00af00; text-decoration-color: #00af00\">8829</span>)      │  <span style=\"color: #00af00; text-decoration-color: #00af00\">2,269,053</span> │ dense_1[<span style=\"color: #00af00; text-decoration-color: #00af00\">0</span>][<span style=\"color: #00af00; text-decoration-color: #00af00\">0</span>]     │\n",
              "└─────────────────────┴───────────────────┴────────────┴───────────────────┘\n",
              "</pre>\n"
            ]
          },
          "metadata": {}
        },
        {
          "output_type": "display_data",
          "data": {
            "text/plain": [
              "\u001b[1m Total params: \u001b[0m\u001b[38;5;34m6,169,213\u001b[0m (23.53 MB)\n"
            ],
            "text/html": [
              "<pre style=\"white-space:pre;overflow-x:auto;line-height:normal;font-family:Menlo,'DejaVu Sans Mono',consolas,'Courier New',monospace\"><span style=\"font-weight: bold\"> Total params: </span><span style=\"color: #00af00; text-decoration-color: #00af00\">6,169,213</span> (23.53 MB)\n",
              "</pre>\n"
            ]
          },
          "metadata": {}
        },
        {
          "output_type": "display_data",
          "data": {
            "text/plain": [
              "\u001b[1m Trainable params: \u001b[0m\u001b[38;5;34m6,169,213\u001b[0m (23.53 MB)\n"
            ],
            "text/html": [
              "<pre style=\"white-space:pre;overflow-x:auto;line-height:normal;font-family:Menlo,'DejaVu Sans Mono',consolas,'Courier New',monospace\"><span style=\"font-weight: bold\"> Trainable params: </span><span style=\"color: #00af00; text-decoration-color: #00af00\">6,169,213</span> (23.53 MB)\n",
              "</pre>\n"
            ]
          },
          "metadata": {}
        },
        {
          "output_type": "display_data",
          "data": {
            "text/plain": [
              "\u001b[1m Non-trainable params: \u001b[0m\u001b[38;5;34m0\u001b[0m (0.00 B)\n"
            ],
            "text/html": [
              "<pre style=\"white-space:pre;overflow-x:auto;line-height:normal;font-family:Menlo,'DejaVu Sans Mono',consolas,'Courier New',monospace\"><span style=\"font-weight: bold\"> Non-trainable params: </span><span style=\"color: #00af00; text-decoration-color: #00af00\">0</span> (0.00 B)\n",
              "</pre>\n"
            ]
          },
          "metadata": {}
        },
        {
          "output_type": "stream",
          "name": "stdout",
          "text": [
            "None\n"
          ]
        }
      ]
    },
    {
      "cell_type": "code",
      "source": [
        "def train_model(model, descriptions, image_features, tokenizer, max_length, vocab_size, epochs=20, batch_size=32):\n",
        "    # Calculate steps per epoch\n",
        "    total_samples = sum(len(caption.split()) - 1 for captions in descriptions.values() for caption in captions)\n",
        "    steps = total_samples // batch_size\n",
        "\n",
        "    # Create data generator\n",
        "    generator = data_generator(descriptions, image_features, tokenizer, max_length, vocab_size, batch_size)\n",
        "\n",
        "    # Setup callbacks for better training\n",
        "    from tensorflow.keras.callbacks import ModelCheckpoint, EarlyStopping, ReduceLROnPlateau\n",
        "\n",
        "    checkpoint = ModelCheckpoint('/content/drive/MyDrive/Image Captioning Model Project/best_model.keras',\n",
        "                                save_best_only=True,\n",
        "                                monitor='loss',\n",
        "                                mode='min')\n",
        "\n",
        "    early_stopping = EarlyStopping(patience=5,\n",
        "                                  monitor='loss',\n",
        "                                  restore_best_weights=True)\n",
        "\n",
        "    reduce_lr = ReduceLROnPlateau(monitor='loss',\n",
        "                                 factor=0.2,\n",
        "                                 patience=2,\n",
        "                                 min_lr=0.00001)\n",
        "\n",
        "    # Train the model\n",
        "    history = model.fit(generator,\n",
        "                      epochs=epochs,\n",
        "                      steps_per_epoch=steps,\n",
        "                      callbacks=[checkpoint, early_stopping, reduce_lr],\n",
        "                      verbose=1)\n",
        "\n",
        "    return model, history"
      ],
      "metadata": {
        "id": "6RwDUbsNJ__F"
      },
      "execution_count": null,
      "outputs": []
    },
    {
      "cell_type": "code",
      "source": [
        "model, history = train_model(model, descriptions, image_features, tokenizer, max_length, vocab_size)"
      ],
      "metadata": {
        "colab": {
          "base_uri": "https://localhost:8080/"
        },
        "id": "jIjjbuIDLM7f",
        "outputId": "f95c4a95-fc9c-4811-fed1-3d8b5cdac046"
      },
      "execution_count": null,
      "outputs": [
        {
          "output_type": "stream",
          "name": "stdout",
          "text": [
            "Epoch 1/20\n",
            "\u001b[1m14905/14905\u001b[0m \u001b[32m━━━━━━━━━━━━━━━━━━━━\u001b[0m\u001b[37m\u001b[0m \u001b[1m183s\u001b[0m 12ms/step - loss: 4.4075 - learning_rate: 0.0010\n",
            "Epoch 2/20\n",
            "\u001b[1m14905/14905\u001b[0m \u001b[32m━━━━━━━━━━━━━━━━━━━━\u001b[0m\u001b[37m\u001b[0m \u001b[1m178s\u001b[0m 12ms/step - loss: 3.5158 - learning_rate: 0.0010\n",
            "Epoch 3/20\n",
            "\u001b[1m14905/14905\u001b[0m \u001b[32m━━━━━━━━━━━━━━━━━━━━\u001b[0m\u001b[37m\u001b[0m \u001b[1m180s\u001b[0m 12ms/step - loss: 3.3124 - learning_rate: 0.0010\n",
            "Epoch 4/20\n",
            "\u001b[1m14905/14905\u001b[0m \u001b[32m━━━━━━━━━━━━━━━━━━━━\u001b[0m\u001b[37m\u001b[0m \u001b[1m179s\u001b[0m 12ms/step - loss: 3.2499 - learning_rate: 0.0010\n",
            "Epoch 5/20\n",
            "\u001b[1m14905/14905\u001b[0m \u001b[32m━━━━━━━━━━━━━━━━━━━━\u001b[0m\u001b[37m\u001b[0m \u001b[1m179s\u001b[0m 12ms/step - loss: 3.1789 - learning_rate: 0.0010\n",
            "Epoch 6/20\n",
            "\u001b[1m14905/14905\u001b[0m \u001b[32m━━━━━━━━━━━━━━━━━━━━\u001b[0m\u001b[37m\u001b[0m \u001b[1m177s\u001b[0m 12ms/step - loss: 3.1442 - learning_rate: 0.0010\n",
            "Epoch 7/20\n",
            "\u001b[1m14905/14905\u001b[0m \u001b[32m━━━━━━━━━━━━━━━━━━━━\u001b[0m\u001b[37m\u001b[0m \u001b[1m180s\u001b[0m 12ms/step - loss: 3.1335 - learning_rate: 0.0010\n",
            "Epoch 8/20\n",
            "\u001b[1m14905/14905\u001b[0m \u001b[32m━━━━━━━━━━━━━━━━━━━━\u001b[0m\u001b[37m\u001b[0m \u001b[1m178s\u001b[0m 12ms/step - loss: 3.1081 - learning_rate: 0.0010\n",
            "Epoch 9/20\n",
            "\u001b[1m14905/14905\u001b[0m \u001b[32m━━━━━━━━━━━━━━━━━━━━\u001b[0m\u001b[37m\u001b[0m \u001b[1m179s\u001b[0m 12ms/step - loss: 3.0984 - learning_rate: 0.0010\n",
            "Epoch 10/20\n",
            "\u001b[1m14905/14905\u001b[0m \u001b[32m━━━━━━━━━━━━━━━━━━━━\u001b[0m\u001b[37m\u001b[0m \u001b[1m179s\u001b[0m 12ms/step - loss: 3.0935 - learning_rate: 0.0010\n",
            "Epoch 11/20\n",
            "\u001b[1m14905/14905\u001b[0m \u001b[32m━━━━━━━━━━━━━━━━━━━━\u001b[0m\u001b[37m\u001b[0m \u001b[1m178s\u001b[0m 12ms/step - loss: 3.0857 - learning_rate: 0.0010\n",
            "Epoch 12/20\n",
            "\u001b[1m14905/14905\u001b[0m \u001b[32m━━━━━━━━━━━━━━━━━━━━\u001b[0m\u001b[37m\u001b[0m \u001b[1m178s\u001b[0m 12ms/step - loss: 3.0781 - learning_rate: 0.0010\n",
            "Epoch 13/20\n",
            "\u001b[1m14905/14905\u001b[0m \u001b[32m━━━━━━━━━━━━━━━━━━━━\u001b[0m\u001b[37m\u001b[0m \u001b[1m180s\u001b[0m 12ms/step - loss: 3.0783 - learning_rate: 0.0010\n",
            "Epoch 14/20\n",
            "\u001b[1m14905/14905\u001b[0m \u001b[32m━━━━━━━━━━━━━━━━━━━━\u001b[0m\u001b[37m\u001b[0m \u001b[1m182s\u001b[0m 12ms/step - loss: 3.0670 - learning_rate: 0.0010\n",
            "Epoch 15/20\n",
            "\u001b[1m14905/14905\u001b[0m \u001b[32m━━━━━━━━━━━━━━━━━━━━\u001b[0m\u001b[37m\u001b[0m \u001b[1m178s\u001b[0m 12ms/step - loss: 3.0643 - learning_rate: 0.0010\n",
            "Epoch 16/20\n",
            "\u001b[1m14905/14905\u001b[0m \u001b[32m━━━━━━━━━━━━━━━━━━━━\u001b[0m\u001b[37m\u001b[0m \u001b[1m178s\u001b[0m 12ms/step - loss: 3.0595 - learning_rate: 0.0010\n",
            "Epoch 17/20\n",
            "\u001b[1m14905/14905\u001b[0m \u001b[32m━━━━━━━━━━━━━━━━━━━━\u001b[0m\u001b[37m\u001b[0m \u001b[1m183s\u001b[0m 12ms/step - loss: 3.0603 - learning_rate: 0.0010\n",
            "Epoch 18/20\n",
            "\u001b[1m14905/14905\u001b[0m \u001b[32m━━━━━━━━━━━━━━━━━━━━\u001b[0m\u001b[37m\u001b[0m \u001b[1m178s\u001b[0m 12ms/step - loss: 3.0223 - learning_rate: 2.0000e-04\n",
            "Epoch 19/20\n",
            "\u001b[1m14905/14905\u001b[0m \u001b[32m━━━━━━━━━━━━━━━━━━━━\u001b[0m\u001b[37m\u001b[0m \u001b[1m178s\u001b[0m 12ms/step - loss: 2.9670 - learning_rate: 2.0000e-04\n",
            "Epoch 20/20\n",
            "\u001b[1m14905/14905\u001b[0m \u001b[32m━━━━━━━━━━━━━━━━━━━━\u001b[0m\u001b[37m\u001b[0m \u001b[1m182s\u001b[0m 12ms/step - loss: 2.9447 - learning_rate: 2.0000e-04\n"
          ]
        }
      ]
    },
    {
      "cell_type": "code",
      "source": [
        "plt.plot(history.history['loss'])\n",
        "plt.title('Model Loss')\n",
        "plt.ylabel('Loss')\n",
        "plt.xlabel('Epoch')\n",
        "plt.show()"
      ],
      "metadata": {
        "colab": {
          "base_uri": "https://localhost:8080/",
          "height": 472
        },
        "id": "ye1QN4QZXFh5",
        "outputId": "70064406-f627-49c3-bca4-bbde38c27e9f"
      },
      "execution_count": null,
      "outputs": [
        {
          "output_type": "display_data",
          "data": {
            "text/plain": [
              "<Figure size 640x480 with 1 Axes>"
            ],
            "image/png": "[encoded data removed]"
          },
          "metadata": {}
        }
      ]
    },
    {
      "cell_type": "code",
      "source": [
        "def save_model(model, tokenizer, max_length):\n",
        "    # Save model\n",
        "    model_path = '/content/drive/MyDrive/Image Captioning Model Project/image_captioning_model_best.keras'\n",
        "    model.save(model_path)\n",
        "\n",
        "    # Save tokenizer\n",
        "    tokenizer_path = '/content/drive/MyDrive/Image Captioning Model Project/tokenizer_best.pkl'\n",
        "    with open(tokenizer_path, 'wb') as f:\n",
        "        pickle.dump(tokenizer, f)\n",
        "\n",
        "    # Save max_length\n",
        "    max_length_path = '/content/drive/MyDrive/Image Captioning Model Project/max_length_best.pkl'\n",
        "    with open(max_length_path, 'wb') as f:\n",
        "        pickle.dump(max_length, f)\n",
        "\n",
        "    print(f\"Model saved to {model_path}\")\n",
        "    print(f\"Tokenizer saved to {tokenizer_path}\")\n",
        "    print(f\"Max length saved to {max_length_path}\")\n",
        "\n",
        "save_model(model, tokenizer, max_length)"
      ],
      "metadata": {
        "colab": {
          "base_uri": "https://localhost:8080/"
        },
        "id": "8bCeBlDhKQ1G",
        "outputId": "21a169e2-5a09-4727-c55b-a78ece46e41a"
      },
      "execution_count": null,
      "outputs": [
        {
          "output_type": "stream",
          "name": "stdout",
          "text": [
            "Model saved to /content/drive/MyDrive/Image Captioning Model Project/image_captioning_model_best.keras\n",
            "Tokenizer saved to /content/drive/MyDrive/Image Captioning Model Project/tokenizer_best.pkl\n",
            "Max length saved to /content/drive/MyDrive/Image Captioning Model Project/max_length_best.pkl\n"
          ]
        }
      ]
    }
  ]
}